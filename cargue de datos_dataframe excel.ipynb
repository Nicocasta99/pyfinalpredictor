{
 "cells": [
  {
   "cell_type": "code",
   "execution_count": 1,
   "id": "0194c0bd",
   "metadata": {},
   "outputs": [],
   "source": [
    "#Importar librerias \n",
    "import numpy as np\n",
    "import pandas as pd \n",
    "import pickle \n",
    "import streamlit as st \n",
    "import joblib\n",
    "import sklearn "
   ]
  },
  {
   "cell_type": "code",
   "execution_count": 2,
   "id": "a7ea0ae7",
   "metadata": {},
   "outputs": [
    {
     "name": "stderr",
     "output_type": "stream",
     "text": [
      "2021-08-02 17:45:19.434 INFO    numexpr.utils: NumExpr defaulting to 4 threads.\n"
     ]
    }
   ],
   "source": [
    "lightgbm_4=joblib.load(\"modelo_lgbm_4.pkl\")"
   ]
  },
  {
   "cell_type": "code",
   "execution_count": 4,
   "id": "1fafa3fc",
   "metadata": {},
   "outputs": [],
   "source": [
    "df1 = pd.read_excel(\"prueba_data_2.xlsx\")\n"
   ]
  },
  {
   "cell_type": "code",
   "execution_count": 5,
   "id": "2f935933",
   "metadata": {},
   "outputs": [
    {
     "data": {
      "text/html": [
       "<div>\n",
       "<style scoped>\n",
       "    .dataframe tbody tr th:only-of-type {\n",
       "        vertical-align: middle;\n",
       "    }\n",
       "\n",
       "    .dataframe tbody tr th {\n",
       "        vertical-align: top;\n",
       "    }\n",
       "\n",
       "    .dataframe thead th {\n",
       "        text-align: right;\n",
       "    }\n",
       "</style>\n",
       "<table border=\"1\" class=\"dataframe\">\n",
       "  <thead>\n",
       "    <tr style=\"text-align: right;\">\n",
       "      <th></th>\n",
       "      <th>BIT_DEPTH</th>\n",
       "      <th>HKLD</th>\n",
       "      <th>WOB</th>\n",
       "      <th>TORQUE</th>\n",
       "      <th>BIT_RPM</th>\n",
       "      <th>PUMP</th>\n",
       "      <th>FLOW_OUT_PC</th>\n",
       "      <th>FLOW_IN</th>\n",
       "      <th>OVERBALANCE</th>\n",
       "      <th>dT</th>\n",
       "      <th>ROT_TIME</th>\n",
       "      <th>DESGASTE</th>\n",
       "    </tr>\n",
       "  </thead>\n",
       "  <tbody>\n",
       "    <tr>\n",
       "      <th>0</th>\n",
       "      <td>16562</td>\n",
       "      <td>452.6</td>\n",
       "      <td>18.6</td>\n",
       "      <td>14.5</td>\n",
       "      <td>124</td>\n",
       "      <td>2871</td>\n",
       "      <td>34.4</td>\n",
       "      <td>551</td>\n",
       "      <td>3.9</td>\n",
       "      <td>-28</td>\n",
       "      <td>112.1</td>\n",
       "      <td>1.6</td>\n",
       "    </tr>\n",
       "  </tbody>\n",
       "</table>\n",
       "</div>"
      ],
      "text/plain": [
       "   BIT_DEPTH   HKLD   WOB  TORQUE  BIT_RPM  PUMP  FLOW_OUT_PC  FLOW_IN  \\\n",
       "0      16562  452.6  18.6    14.5      124  2871         34.4      551   \n",
       "\n",
       "   OVERBALANCE  dT  ROT_TIME  DESGASTE  \n",
       "0          3.9 -28     112.1       1.6  "
      ]
     },
     "execution_count": 5,
     "metadata": {},
     "output_type": "execute_result"
    }
   ],
   "source": [
    "df1"
   ]
  },
  {
   "cell_type": "code",
   "execution_count": 6,
   "id": "d959ddfc",
   "metadata": {},
   "outputs": [],
   "source": [
    "df =df1[['BIT_DEPTH', 'HKLD', 'WOB', 'TORQUE',\n",
    "         'BIT_RPM', 'PUMP', 'FLOW_OUT_PC', 'FLOW_IN', 'OVERBALANCE', 'dT',\n",
    "         'ROT_TIME', 'DESGASTE']]"
   ]
  },
  {
   "cell_type": "code",
   "execution_count": 7,
   "id": "b281be42",
   "metadata": {},
   "outputs": [],
   "source": [
    "px= lightgbm_4.predict(df)"
   ]
  },
  {
   "cell_type": "code",
   "execution_count": 8,
   "id": "b6946a26",
   "metadata": {},
   "outputs": [
    {
     "data": {
      "text/plain": [
       "array([4.97184084])"
      ]
     },
     "execution_count": 8,
     "metadata": {},
     "output_type": "execute_result"
    }
   ],
   "source": [
    "px"
   ]
  },
  {
   "cell_type": "code",
   "execution_count": 9,
   "id": "fc09a6ae",
   "metadata": {},
   "outputs": [],
   "source": [
    "df2 = pd.read_csv(\"prueba_archivo_data.csv\")\n"
   ]
  },
  {
   "cell_type": "code",
   "execution_count": 10,
   "id": "537f0e14",
   "metadata": {},
   "outputs": [
    {
     "data": {
      "text/html": [
       "<div>\n",
       "<style scoped>\n",
       "    .dataframe tbody tr th:only-of-type {\n",
       "        vertical-align: middle;\n",
       "    }\n",
       "\n",
       "    .dataframe tbody tr th {\n",
       "        vertical-align: top;\n",
       "    }\n",
       "\n",
       "    .dataframe thead th {\n",
       "        text-align: right;\n",
       "    }\n",
       "</style>\n",
       "<table border=\"1\" class=\"dataframe\">\n",
       "  <thead>\n",
       "    <tr style=\"text-align: right;\">\n",
       "      <th></th>\n",
       "      <th>BIT_DEPTH;HKLD;WOB;ORQUE;IT_RPM;PUMP;FLOW_OUT_PC;FLOW_IN;OVERBALANC;dT;ROT_TIME;DESGASTE</th>\n",
       "    </tr>\n",
       "  </thead>\n",
       "  <tbody>\n",
       "    <tr>\n",
       "      <th>0</th>\n",
       "      <td>16562;452.6;18.6;14.5;124;2871;34.4;551;3.9;-2...</td>\n",
       "    </tr>\n",
       "  </tbody>\n",
       "</table>\n",
       "</div>"
      ],
      "text/plain": [
       "  BIT_DEPTH;HKLD;WOB;ORQUE;IT_RPM;PUMP;FLOW_OUT_PC;FLOW_IN;OVERBALANC;dT;ROT_TIME;DESGASTE\n",
       "0  16562;452.6;18.6;14.5;124;2871;34.4;551;3.9;-2...                                      "
      ]
     },
     "execution_count": 10,
     "metadata": {},
     "output_type": "execute_result"
    }
   ],
   "source": [
    "df2\n"
   ]
  },
  {
   "cell_type": "code",
   "execution_count": 11,
   "id": "8aa1c694",
   "metadata": {},
   "outputs": [],
   "source": [
    "df1.to_csv(\"cambio_excel_csv_prueba.csv\")"
   ]
  },
  {
   "cell_type": "code",
   "execution_count": null,
   "id": "4ddc19ad",
   "metadata": {},
   "outputs": [],
   "source": []
  }
 ],
 "metadata": {
  "kernelspec": {
   "display_name": "Python 3",
   "language": "python",
   "name": "python3"
  },
  "language_info": {
   "codemirror_mode": {
    "name": "ipython",
    "version": 3
   },
   "file_extension": ".py",
   "mimetype": "text/x-python",
   "name": "python",
   "nbconvert_exporter": "python",
   "pygments_lexer": "ipython3",
   "version": "3.8.8"
  }
 },
 "nbformat": 4,
 "nbformat_minor": 5
}
